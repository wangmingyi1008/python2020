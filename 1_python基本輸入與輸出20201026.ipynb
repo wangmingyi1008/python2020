{
  "nbformat": 4,
  "nbformat_minor": 0,
  "metadata": {
    "colab": {
      "name": "1_python基本輸入與輸出20201026.ipynb",
      "provenance": [],
      "collapsed_sections": [],
      "include_colab_link": true
    },
    "kernelspec": {
      "name": "python3",
      "display_name": "Python 3"
    }
  },
  "cells": [
    {
      "cell_type": "markdown",
      "metadata": {
        "id": "view-in-github",
        "colab_type": "text"
      },
      "source": [
        "<a href=\"https://colab.research.google.com/github/wangmingyi1008/python2020/blob/main/1_python%E5%9F%BA%E6%9C%AC%E8%BC%B8%E5%85%A5%E8%88%87%E8%BC%B8%E5%87%BA20201026.ipynb\" target=\"_parent\"><img src=\"https://colab.research.google.com/assets/colab-badge.svg\" alt=\"Open In Colab\"/></a>"
      ]
    },
    {
      "cell_type": "markdown",
      "metadata": {
        "id": "jUPVZ3ly7BiJ"
      },
      "source": [
        ""
      ]
    },
    {
      "cell_type": "markdown",
      "metadata": {
        "id": "0ynE7xesLMzb"
      },
      "source": [
        "# 1.基本輸入與輸出"
      ]
    },
    {
      "cell_type": "markdown",
      "metadata": {
        "id": "FHYKyUOzCNGB"
      },
      "source": [
        "```\n",
        "標準輸入(stdin)與標準輸出(stdout)\n",
        "   python輸入:input()\n",
        "   python輸出: print()\n",
        "```\n",
        "```\n",
        "自主學習主題\n",
        "   python格式化輸出技術\n",
        "```\n",
        "```\n",
        "進階學習主題:\n",
        "[10]讀取檔案(txt,csv,xslx,json,...)與輸出到檔案\n",
        "[20]資料庫讀取與輸出\n",
        "```\n",
        "# 基礎輸入與輸出(Basic Input and Output)\n",
        "\n",
        "## 基本輸入:讀取使用者的輸入\n",
        "\n",
        "```\n",
        "使用input時，會從標準輸入(stdin)中讀取輸入資料\n",
        "這些資料是string字串型態{重要}\n",
        "stdin==Standard Input\n",
        "```"
      ]
    },
    {
      "cell_type": "markdown",
      "metadata": {
        "id": "qE6a1xH9C98b"
      },
      "source": [
        "\n",
        "執行底下程式看看:\n",
        "```\n",
        "# -*- coding: utf-8 -*-\n",
        "x = input('Enter your name:')\n",
        "print('Hello, ' + x)\n",
        "\n",
        "a = input(\"請輸入：\")\n",
        "a\n",
        "```\n"
      ]
    },
    {
      "cell_type": "code",
      "metadata": {
        "id": "bcIkGS80-MBY"
      },
      "source": [
        "\n"
      ],
      "execution_count": null,
      "outputs": []
    },
    {
      "cell_type": "markdown",
      "metadata": {
        "id": "25eyt1w9Diik"
      },
      "source": [
        "###  使用Python內建的type()函數顯示資料型態\n",
        "\n",
        "底下程式執行後結果為何?\n",
        "```\n",
        "type(a)\n",
        "```"
      ]
    },
    {
      "cell_type": "markdown",
      "metadata": {
        "id": "BMuWFMZqDtKG"
      },
      "source": [
        "### 程式錯誤與更正\n",
        "```\n",
        "小明明正在學習python程式\n",
        "\n",
        "老師出了一題\n",
        "要輸入一個整數分數\n",
        "然後加15後\n",
        "輸出最後答案\n",
        "\n",
        "底下是小明明的python程式\n",
        "請指出底下的錯誤並更正\n",
        "```\n",
        "#### 小明明的python程式 執行後結果為何?\n",
        "```\n",
        "a = input(\"請輸入：\")\n",
        "a\n",
        "\n",
        "b = a+15\n",
        "b\n",
        "```\n"
      ]
    },
    {
      "cell_type": "markdown",
      "metadata": {
        "id": "RIDe5YfG_teI"
      },
      "source": [
        "```\n",
        "TypeError :資料型態(data type)錯誤\n",
        "```"
      ]
    },
    {
      "cell_type": "markdown",
      "metadata": {
        "id": "LAh1-HGmEKMo"
      },
      "source": [
        "#### 更正的 小明明python程式\n",
        "```\n",
        "如何讀取使用者輸入的整數===>使用eval()函數\n",
        "            ===>也可以使用int()函數\n",
        "```\n",
        "底下程式執行後結果為何?\n",
        "```\n",
        "a = eval(input(\"請輸入：\"))\n",
        "a\n",
        "type(a)\n",
        "```"
      ]
    },
    {
      "cell_type": "markdown",
      "metadata": {
        "id": "lcfO6SimMzIm"
      },
      "source": [
        "寫下你更正的答案:"
      ]
    },
    {
      "cell_type": "code",
      "metadata": {
        "id": "oMrm4NmOBd6n",
        "outputId": "9ed75386-565f-4385-eb50-faf54fda2688",
        "colab": {
          "base_uri": "https://localhost:8080/",
          "height": 51
        }
      },
      "source": [
        "a = int(input(\"請輸入：\"))\n",
        "a\n",
        "\n",
        "b = a+15\n",
        "b"
      ],
      "execution_count": 2,
      "outputs": [
        {
          "output_type": "stream",
          "text": [
            "請輸入：65\n"
          ],
          "name": "stdout"
        },
        {
          "output_type": "execute_result",
          "data": {
            "text/plain": [
              "80"
            ]
          },
          "metadata": {
            "tags": []
          },
          "execution_count": 2
        }
      ]
    },
    {
      "cell_type": "markdown",
      "metadata": {
        "id": "ojFW3LYnAhM_"
      },
      "source": [
        "#### 超級重要:一次輸入多（兩）個資料\n",
        "\n",
        "底下程式執行後結果為何?\n",
        "```\n",
        "a,b = eval(input(\"請輸入兩個數位：\"))\n",
        "a,b\n",
        "```"
      ]
    },
    {
      "cell_type": "code",
      "metadata": {
        "id": "bW1O1VGZBw9z",
        "outputId": "dd40d632-76e0-4b53-fb18-a487a1e243b3",
        "colab": {
          "base_uri": "https://localhost:8080/",
          "height": 34
        }
      },
      "source": [
        "12,20"
      ],
      "execution_count": 4,
      "outputs": [
        {
          "output_type": "execute_result",
          "data": {
            "text/plain": [
              "(12, 20)"
            ]
          },
          "metadata": {
            "tags": []
          },
          "execution_count": 4
        }
      ]
    },
    {
      "cell_type": "code",
      "metadata": {
        "id": "8fXEDJ3qBtXl",
        "outputId": "5dfae127-3459-4fd3-f7fa-756bdecb6e3a",
        "colab": {
          "base_uri": "https://localhost:8080/",
          "height": 131
        }
      },
      "source": [
        "12 20"
      ],
      "execution_count": 3,
      "outputs": [
        {
          "output_type": "error",
          "ename": "SyntaxError",
          "evalue": "ignored",
          "traceback": [
            "\u001b[0;36m  File \u001b[0;32m\"<ipython-input-3-074be4a293a1>\"\u001b[0;36m, line \u001b[0;32m1\u001b[0m\n\u001b[0;31m    12 20\u001b[0m\n\u001b[0m        ^\u001b[0m\n\u001b[0;31mSyntaxError\u001b[0m\u001b[0;31m:\u001b[0m invalid syntax\n"
          ]
        }
      ]
    }
  ]
}